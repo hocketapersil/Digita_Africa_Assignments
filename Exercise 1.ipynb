{
 "cells": [
  {
   "cell_type": "markdown",
   "id": "8ccb695b",
   "metadata": {},
   "source": [
    "## Exercise"
   ]
  },
  {
   "cell_type": "markdown",
   "id": "764d232d",
   "metadata": {},
   "source": [
    "\n",
    "\n",
    "### 1. Calculate the sum of two numbers using the addition operator.\n",
    "\n",
    "### 2. Find the difference between two numbers using the subtraction operator.\n",
    "\n",
    "### 3. Multiply two numbers using the multiplication operator.\n",
    "\n",
    "### 4. Divide two numbers using the division operator.\n",
    "\n",
    "### 5. Calculate the remainder when dividing one number by another using the modulo operator.\n",
    "\n",
    "### 6. Raise a number to a power using the exponentiation operator.\n",
    "\n",
    "### 7. Use logical operators to check if a number is divisible by both 3 and 5\n",
    "\n",
    "### 8. Check if two numbers are equal using the equality operator.\n",
    "\n",
    "### 9. Check if one number is greater than another using the greater than operator.\n",
    "\n",
    "### 10. Check if one number is less than another using the less than operator.\n",
    "\n",
    "### 11. Check if one number is greater than or equal to another using the greater than or equal to operator.\n",
    "\n",
    "### 12. Check if one number is less than or equal to another using the less than or equal to operator.\n",
    "\n",
    "### 13. Check if two values are not equal using the not equal to operator.\n",
    "\n",
    "### 14. Perform bitwise AND operation between two numbers using the bitwise AND operator.\n",
    "\n",
    "### 15. Perform bitwise OR operation between two numbers using the bitwise OR operator.\n",
    "\n",
    "### 16. Perform bitwise XOR operation between two numbers using the bitwise XOR operator.\n",
    "\n",
    "### 17. Perform bitwise NOT operation on a number using the bitwise NOT operator.\n",
    "\n",
    "### 18. Perform left shift operation on a number using the left shift operator.\n",
    "\n",
    "### 19. Perform right shift operation on a number using the right shift operator.\n",
    "\n",
    "### 20. Use logical operators to check if a string contains both 'a' and 'b'. let the string = 'abcde'\n",
    "\n",
    "\n",
    "\n"
   ]
  },
  {
   "cell_type": "markdown",
   "id": "1354fb83",
   "metadata": {},
   "source": [
    "### Let the first number be 10 and the second number be 5\n"
   ]
  },
  {
   "cell_type": "code",
   "execution_count": 2,
   "id": "c6eeebe9",
   "metadata": {},
   "outputs": [
    {
     "name": "stdout",
     "output_type": "stream",
     "text": [
      "15\n"
     ]
    }
   ],
   "source": [
    "#Calculate the sum of two numbers using the addition operator.\n",
    "\n",
    "num_1 = 10\n",
    "num_2 = 5\n",
    "result = num_1 + num_2\n",
    "print(result)"
   ]
  },
  {
   "cell_type": "code",
   "execution_count": 2,
   "id": "e96b3f0c",
   "metadata": {},
   "outputs": [
    {
     "name": "stdout",
     "output_type": "stream",
     "text": [
      "5\n"
     ]
    }
   ],
   "source": [
    "#Find the difference between two numbers using the subtraction operator.\n",
    "\n",
    "num_1 = 10\n",
    "num_2 = 5\n",
    "result = num_1 - num_2\n",
    "print(result)"
   ]
  },
  {
   "cell_type": "code",
   "execution_count": 4,
   "id": "1580cee8",
   "metadata": {},
   "outputs": [
    {
     "name": "stdout",
     "output_type": "stream",
     "text": [
      "50\n"
     ]
    }
   ],
   "source": [
    "#Multiply two numbers using the multiplication operator.\n",
    "num_1 = 10\n",
    "num_2 = 5\n",
    "result = num_1 * num_2\n",
    "print(result)"
   ]
  },
  {
   "cell_type": "code",
   "execution_count": 7,
   "id": "ac5ca49d",
   "metadata": {},
   "outputs": [
    {
     "name": "stdout",
     "output_type": "stream",
     "text": [
      "2.0\n"
     ]
    }
   ],
   "source": [
    "#Divide two numbers using the division operator\n",
    "num_1 = 10\n",
    "num_2 = 5\n",
    "result = num_1/num_2\n",
    "print(result)"
   ]
  },
  {
   "cell_type": "code",
   "execution_count": 8,
   "id": "d9042a45",
   "metadata": {},
   "outputs": [
    {
     "name": "stdout",
     "output_type": "stream",
     "text": [
      "0\n"
     ]
    }
   ],
   "source": [
    "#Calculate the remainder when dividing one number by another using the modulo operator.\n",
    "num_1 = 10\n",
    "num_2 = 5\n",
    "result = num_1%num_2\n",
    "print(result)"
   ]
  },
  {
   "cell_type": "code",
   "execution_count": 9,
   "id": "ce83271f",
   "metadata": {},
   "outputs": [
    {
     "name": "stdout",
     "output_type": "stream",
     "text": [
      "100000\n"
     ]
    }
   ],
   "source": [
    "#Raise a number to a power using the exponentiation operator\n",
    "num_1 = 10\n",
    "num_2 = 5\n",
    "result = num_1**num_2\n",
    "print(result)"
   ]
  },
  {
   "cell_type": "code",
   "execution_count": 14,
   "id": "b3e52cd7",
   "metadata": {},
   "outputs": [
    {
     "name": "stdout",
     "output_type": "stream",
     "text": [
      "10 is not divisible by both 3 and 5.\n"
     ]
    }
   ],
   "source": [
    "#Use logical operators to check if a number is divisible by both 3 and 5\n",
    "\n",
    "def is_divisible_by_3_and_5(number):\n",
    "    return \"divisible by both 3 and 5\" if (number % 3 == 0) and (number % 5 == 0) else \"not divisible by both 3 and 5\"\n",
    "\n",
    "user_number = 10\n",
    "print(f\"{user_number} is {is_divisible_by_3_and_5(user_number)}.\")\n",
    "\n"
   ]
  },
  {
   "cell_type": "code",
   "execution_count": 28,
   "id": "3e76b61b",
   "metadata": {},
   "outputs": [
    {
     "name": "stdout",
     "output_type": "stream",
     "text": [
      "False\n"
     ]
    }
   ],
   "source": [
    "num_1 = 10\n",
    "\n",
    "result = (num_1/3 and num_1/5)\n",
    "if result == 1:\n",
    "    print(True)\n",
    "else:\n",
    "    print(False)\n"
   ]
  },
  {
   "cell_type": "code",
   "execution_count": 15,
   "id": "6063f38a",
   "metadata": {},
   "outputs": [
    {
     "name": "stdout",
     "output_type": "stream",
     "text": [
      "False\n"
     ]
    }
   ],
   "source": [
    "#Check if two numbers are equal using the equality operator.\n",
    "num_1 = 10\n",
    "num_2 = 5\n",
    "result = num_1 == num_2\n",
    "print(result)"
   ]
  },
  {
   "cell_type": "code",
   "execution_count": 18,
   "id": "a787c4fc",
   "metadata": {},
   "outputs": [
    {
     "name": "stdout",
     "output_type": "stream",
     "text": [
      "True\n"
     ]
    }
   ],
   "source": [
    "#Check if one number is greater than another using the greater than operator.\n",
    "num_1 = 10\n",
    "num_2 = 5\n",
    "result = num_1 > num_2\n",
    "\n",
    "print(result)\n"
   ]
  },
  {
   "cell_type": "code",
   "execution_count": 17,
   "id": "933baa63",
   "metadata": {},
   "outputs": [
    {
     "name": "stdout",
     "output_type": "stream",
     "text": [
      "False\n"
     ]
    }
   ],
   "source": [
    "#Check if one number is less than another using the less than operator.\n",
    "num_1 = 10\n",
    "num_2 = 5\n",
    "result = num_1 < num_2\n",
    "print(result)\n"
   ]
  },
  {
   "cell_type": "code",
   "execution_count": 19,
   "id": "294c08f7",
   "metadata": {},
   "outputs": [
    {
     "name": "stdout",
     "output_type": "stream",
     "text": [
      "True\n"
     ]
    }
   ],
   "source": [
    "#Check if one number is greater than or equal to another using the greater than or equal to operator.\n",
    "num_1 = 10\n",
    "num_2 = 5\n",
    "result = num_1 >= num_2\n",
    "print(result)\n"
   ]
  },
  {
   "cell_type": "code",
   "execution_count": 21,
   "id": "ba04fd4c",
   "metadata": {},
   "outputs": [
    {
     "name": "stdout",
     "output_type": "stream",
     "text": [
      "False\n"
     ]
    }
   ],
   "source": [
    "#Check if one number is less than or equal to another using the less than or equal to operator.\n",
    "\n",
    "num_1 = 10\n",
    "num_2 = 5\n",
    "result = num_1 <= num_2\n",
    "print(result)\n"
   ]
  }
 ],
 "metadata": {
  "kernelspec": {
   "display_name": "Python 3 (ipykernel)",
   "language": "python",
   "name": "python3"
  },
  "language_info": {
   "codemirror_mode": {
    "name": "ipython",
    "version": 3
   },
   "file_extension": ".py",
   "mimetype": "text/x-python",
   "name": "python",
   "nbconvert_exporter": "python",
   "pygments_lexer": "ipython3",
   "version": "3.11.5"
  }
 },
 "nbformat": 4,
 "nbformat_minor": 5
}
