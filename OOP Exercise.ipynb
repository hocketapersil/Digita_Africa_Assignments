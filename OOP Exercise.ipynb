{
 "cells": [
  {
   "cell_type": "markdown",
   "id": "36c111bd",
   "metadata": {},
   "source": [
    "# Exercises"
   ]
  },
  {
   "cell_type": "markdown",
   "id": "eab7fb67",
   "metadata": {},
   "source": [
    "## Question One:\n",
    "\n",
    "## Implement a Python module math_operations containing a class Calculator with methods for addition, subtraction, multiplication, and division. Write another Python script that imports the module and demonstrates the usage of the Calculator class to perform arithmetic operations."
   ]
  },
  {
   "cell_type": "code",
   "execution_count": 5,
   "id": "e4ea8386",
   "metadata": {},
   "outputs": [
    {
     "name": "stdout",
     "output_type": "stream",
     "text": [
      "addition is: 15\n",
      "subtraction is: 5\n",
      "multiplication is: 50\n",
      "division is: 2\n"
     ]
    }
   ],
   "source": [
    "import math_operations as mo\n",
    "\n",
    "num1 = 10\n",
    "num2 = 5\n",
    "\n",
    "calculator = mo.calculator(num1,num2)\n",
    "\n",
    "# Perform operations\n",
    "\n",
    "#addition\n",
    "num_add = calculator.addition()\n",
    "print(\"addition is:\", num_add)\n",
    "\n",
    "#subtraction\n",
    "num_sub = calculator.subtraction()\n",
    "print(\"subtraction is:\", num_sub)\n",
    "\n",
    "#multiplication\n",
    "\n",
    "num_multiply = calculator.multiplication()\n",
    "print(\"multiplication is:\", num_multiply)\n",
    "\n",
    "#division\n",
    "num_divide = calculator.division()\n",
    "print(\"division is:\", num_divide)"
   ]
  },
  {
   "cell_type": "markdown",
   "id": "cc64e4a7",
   "metadata": {},
   "source": [
    "## Question Two:\n",
    "\n",
    "## Define a base class Animal with a method make_sound(). Implement subclasses Dog and Cat that override the make_sound() method with their own sound. Create objects of both subclasses and call the make_sound() method to hear their respective sounds."
   ]
  },
  {
   "cell_type": "code",
   "execution_count": 30,
   "id": "c07d938a",
   "metadata": {},
   "outputs": [
    {
     "name": "stdout",
     "output_type": "stream",
     "text": [
      "making a wow wow sound\n",
      "None\n",
      "making a mwew mwew sound\n",
      "None\n"
     ]
    }
   ],
   "source": [
    "class Animal:\n",
    "    def __init__(self):\n",
    "        pass\n",
    "\n",
    "    def make_sound(self,sound):\n",
    "        print(f'making a {sound} sound')\n",
    "\n",
    "class Dog(Animal):\n",
    "    def __init__(self):\n",
    "        pass\n",
    "\n",
    "class Cat(Animal):\n",
    "    def __init__(slef):\n",
    "        pass\n",
    "    \n",
    "dog_sound = Dog()\n",
    "\n",
    "cat_sound = Cat()\n",
    "\n",
    "print(dog_sound.make_sound('wow wow'))\n",
    "print(cat_sound.make_sound('mwew meow'))\n",
    "\n",
    "        "
   ]
  },
  {
   "cell_type": "markdown",
   "id": "5f9ac182",
   "metadata": {},
   "source": [
    "## Question Three:\n",
    "\n",
    "## Design an abstract class Shape with abstract methods area() and perimeter(). Implement concrete subclasses Square and Triangle that provide their own implementations of these methods. Demonstrate the use of abstraction by creating objects of the subclasses."
   ]
  },
  {
   "cell_type": "code",
   "execution_count": 74,
   "id": "acea75bb",
   "metadata": {},
   "outputs": [
    {
     "name": "stdout",
     "output_type": "stream",
     "text": [
      "Square\n",
      "area of square 25\n",
      "perimeter of square 20\n",
      "\n",
      " Triangle\n",
      "area of triangle 4.47213595499958\n",
      "perimeter of triangle 10\n"
     ]
    }
   ],
   "source": [
    "from abc import ABC, abstractmethod\n",
    "import math \n",
    "\n",
    "class Shape(ABC):\n",
    "    @abstractmethod\n",
    "    def area(self):\n",
    "        pass\n",
    "\n",
    "    @abstractmethod\n",
    "    def perimeter(self):\n",
    "        pass\n",
    "\n",
    "\n",
    "class Square(Shape):\n",
    "    def __init__(self,length):\n",
    "        self.length = length\n",
    "\n",
    "    def area(self):\n",
    "        return self.length * self.length\n",
    "    \n",
    "    def perimeter(self):\n",
    "        return self.length * 4\n",
    "    \n",
    "class Triangle:\n",
    "    def __init__(self,length,width,breath):\n",
    "        self.length = length\n",
    "        self.width = width\n",
    "        self.breath = breath\n",
    "\n",
    "    def area(self):\n",
    "        s = (self.length + self.width +self.breath)/2\n",
    "        return math.sqrt(s*((s-self.length)*(s-self.width)*(s-self.breath)))\n",
    "    \n",
    "    def parimeter(self):\n",
    "        return self.length + self.width +self.breath\n",
    "    \n",
    "\n",
    "#Demonstrating abstruction\n",
    "square = Square(5)\n",
    "triangle = Triangle(3,4,3)\n",
    "\n",
    "print('Square')\n",
    "print('area of square', square.area())\n",
    "print('perimeter of square',square.perimeter())\n",
    "\n",
    "print('\\n Triangle')\n",
    "print('area of triangle',triangle.area())\n",
    "print('perimeter of triangle', triangle.parimeter())"
   ]
  },
  {
   "cell_type": "markdown",
   "id": "402503e6",
   "metadata": {},
   "source": [
    "## Question Four:\n",
    "\n",
    "## Create a Python class Employee with private attributes (_name, _id, _salary) and methods to set and get these attributes. Implement a method to calculate the yearly bonus based on the salary Assuming 10% of salary as bonus.\n"
   ]
  },
  {
   "cell_type": "code",
   "execution_count": 69,
   "id": "b0d9bb29",
   "metadata": {},
   "outputs": [
    {
     "name": "stdout",
     "output_type": "stream",
     "text": [
      "60.0\n"
     ]
    }
   ],
   "source": [
    "class Employee:\n",
    "    \n",
    "    def __init__(self, name=None, id=None,salary=None):\n",
    "        self._name = name\n",
    "        self._id  = id\n",
    "        self._salary = salary\n",
    "\n",
    "    def set_salary(self,salary):\n",
    "        self._salary = salary\n",
    "\n",
    "    \n",
    "\n",
    "    def get_bonus(self):\n",
    "        if self._salary == 0:\n",
    "            return \"No bonus for you\"\n",
    "        return 0.1 * self._salary\n",
    "    \n",
    "salary = float(input('please enter your salary here'))\n",
    "bonus = Employee()\n",
    "bonus.set_salary(salary)\n",
    "print(bonus.get_bonus())\n",
    "        "
   ]
  },
  {
   "cell_type": "markdown",
   "id": "a845b650",
   "metadata": {},
   "source": [
    "## Question Five\n",
    "\n",
    "## Implement a Python class StringUtils with a static method is_palindrome(string) that checks if a given string is a palindrome. Demonstrate the usage of this method by checking palindromes provided by the user."
   ]
  },
  {
   "cell_type": "markdown",
   "id": "7ae4b546",
   "metadata": {},
   "source": [
    "## Question Six\n",
    "\n",
    "## Write a Python program that prompts the user to enter some text, then writes this text to a file named \"output.txt\". After that, the program should read the contents of \"output.txt\" and display them on the console."
   ]
  },
  {
   "cell_type": "code",
   "execution_count": 71,
   "id": "643297e6",
   "metadata": {},
   "outputs": [
    {
     "name": "stdout",
     "output_type": "stream",
     "text": [
      "I will be a Data Scientist soon!\n"
     ]
    }
   ],
   "source": [
    "user_text = input('please enter your text here..')\n",
    "\n",
    "with open('output.txt','w') as file:\n",
    "    file.write(user_text)\n",
    "\n",
    "with open('output.txt','r') as read_file:\n",
    "    text = read_file.read()\n",
    "print(text)"
   ]
  },
  {
   "cell_type": "markdown",
   "id": "ff1f446e",
   "metadata": {},
   "source": [
    "## Question Seven:\n",
    "\n",
    "## Write a Python program that saves the strings \"My name is (your name)\", \"I am a student at blossom academy\", and \"I love Blossom Academy\" to a file named \"output.txt\". Then, read the contents of \"blossom.txt\" and print them on the console."
   ]
  },
  {
   "cell_type": "code",
   "execution_count": 66,
   "id": "7e3b5679",
   "metadata": {},
   "outputs": [
    {
     "name": "stdout",
     "output_type": "stream",
     "text": [
      "My name is Hocket Apersil,i am a student of blosom academy,and I love Blossom Academy\n"
     ]
    }
   ],
   "source": [
    "user_name = input('please enter your name')\n",
    "text_1 = f\"My name is {user_name},\"\n",
    "text_2 = \"i am a student of blosom academy,\"\n",
    "text_3  = \"and I love Blossom Academy\"\n",
    "with open('blossom.txt','w') as blossom_file:\n",
    "    blossom_file.write(text_1)\n",
    "    blossom_file.write(text_2)\n",
    "    blossom_file.write(text_3)\n",
    "\n",
    "with open('blossom.txt','r') as read_blossom:\n",
    "    test = read_blossom.readline()\n",
    "print(test)"
   ]
  }
 ],
 "metadata": {
  "kernelspec": {
   "display_name": "Python 3 (ipykernel)",
   "language": "python",
   "name": "python3"
  },
  "language_info": {
   "codemirror_mode": {
    "name": "ipython",
    "version": 3
   },
   "file_extension": ".py",
   "mimetype": "text/x-python",
   "name": "python",
   "nbconvert_exporter": "python",
   "pygments_lexer": "ipython3",
   "version": "3.10.13"
  }
 },
 "nbformat": 4,
 "nbformat_minor": 5
}
