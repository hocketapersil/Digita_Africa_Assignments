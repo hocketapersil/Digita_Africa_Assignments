{
 "cells": [
  {
   "cell_type": "markdown",
   "metadata": {
    "id": "s6m-bZTUBr-q"
   },
   "source": [
    "# GIT EXERCISE"
   ]
  },
  {
   "cell_type": "markdown",
   "metadata": {
    "id": "67tew7ojBsV_"
   },
   "source": [
    "## Question 1 :\n",
    "Create a Python function that calculates the factorial of a given number.Instructions: Create a new Python file named factorial.py in your local directory. Write a function to calculate the factorial of a number using recursion or iteration. After writing the code, initialize a Git repository in the directory, add the file, commit the changes, and push it to a new repository on GitHub."
   ]
  },
  {
   "cell_type": "markdown",
   "metadata": {
    "id": "ZT30jcpzBxmA"
   },
   "source": [
    "## Question 2:\n",
    "\n",
    "Write a Python program to remove duplicates from a list.Instructions: Create a new Python file named remove_duplicates.py. Write the program to take a list as input and remove duplicate elements, preserving the original order. After writing the code, initialize a Git repository in the directory, add the file, commit the changes, and push it to a new repository on GitHub."
   ]
  },
  {
   "cell_type": "markdown",
   "metadata": {
    "id": "5vsvU97sBxpF"
   },
   "source": [
    "## Question 3:\n",
    "\n",
    "Write a Python program to find the intersection of two sets.Instructions: Create a new Python file named set_intersection.py. Write the program to take two sets as input and find their intersection. After writing the code, initialize a Git repository in the directory, add the file, commit the changes, and push it to a new repository on GitHub."
   ]
  },
  {
   "cell_type": "markdown",
   "metadata": {
    "id": "6jyAQ1HwDFFt"
   },
   "source": [
    "## Question 4:\n",
    "\n",
    "Create a Python function that checks if two strings are anagrams of each other.Instructions: Create a new Python file named anagram_check.py. Write a function to check if two strings are anagrams of each other (i.e., contain the same characters but in a different order). After writing the code, initialize a Git repository in the directory, add the file, commit the changes, and push it to a new repository on GitHub."
   ]
  },
  {
   "cell_type": "markdown",
   "metadata": {
    "id": "d2NPZeK9DFd8"
   },
   "source": [
    "## Question 5:\n",
    "\n",
    "Create a Python function that finds the maximum and minimum elements in a list.Instructions: Create a new Python file named max_min.py. Write a function to find the maximum and minimum elements in a given list. After writing the code, initialize a Git repository in the directory, add the file, commit the changes, and push it to a new repository on GitHub."
   ]
  },
  {
   "cell_type": "markdown",
   "metadata": {
    "id": "Qd5rueQ1Bx5T"
   },
   "source": [
    "## Question 6:\n",
    "\n",
    "Create a new branch named \"sort-strings-by-length\". Write a Python program to sort a list of strings based on the length of each string. Instructions: Create a new Python file named sort_strings_by_length.py. Write the program to take a list of strings as input and sort it based on the length of each string, from shortest to longest. After writing the code, initialize a Git repository in the directory, add the file, commit the changes, and push it to a new repository on GitHub. Finally, merge the branch into the main branch."
   ]
  }
 ],
 "metadata": {
  "colab": {
   "provenance": []
  },
  "kernelspec": {
   "display_name": "Python 3 (ipykernel)",
   "language": "python",
   "name": "python3"
  },
  "language_info": {
   "codemirror_mode": {
    "name": "ipython",
    "version": 3
   },
   "file_extension": ".py",
   "mimetype": "text/x-python",
   "name": "python",
   "nbconvert_exporter": "python",
   "pygments_lexer": "ipython3",
   "version": "3.10.9"
  }
 },
 "nbformat": 4,
 "nbformat_minor": 1
}
